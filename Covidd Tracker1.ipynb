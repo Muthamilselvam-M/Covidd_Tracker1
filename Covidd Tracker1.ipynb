{
 "cells": [
  {
   "cell_type": "code",
   "execution_count": 7,
   "id": "1373b847",
   "metadata": {},
   "outputs": [],
   "source": [
    "import tkinter as tk\n",
    "import requests\n",
    "import datetime\n",
    "\n",
    "def getcoviddata():\n",
    "    api =\"https://disease.sh/v3/covid-19/all\"\n",
    "    json_data = requests.get(api).json()\n",
    "    total_cases =str(json_data[\"cases\"])\n",
    "    total_deaths =str(json_data[\"deaths\"])\n",
    "    today_cases = str(json_data[\"todayCases\"])\n",
    "    today_deaths = str(json_data[\"todayDeaths\"])\n",
    "    today_recovered =str(json_data[\"todayRecovered\"])\n",
    "    updated_at =json_data[\"updated\"]\n",
    "    date = datetime.datetime.fromtimestamp(updated_at/1e3)\n",
    "    label.config(text = \"Total Cases =\"+total_cases+\n",
    "                 \"\\n\"+\"Total Deaths =\"+total_deaths+\n",
    "                 \"\\n\"+\"Today Cases =\"+today_cases+\n",
    "                 \"\\n\"+\"Today Deaths =\"+today_deaths+\n",
    "                 \"\\n\"+\"Today Recovered =\"+today_recovered)\n",
    "    \n",
    "    label2.config(text = date)\n",
    "app = tk.Tk()\n",
    "app.geometry(\"400x400\")\n",
    "app.title(\"Covidd Tracker1\")\n",
    "\n",
    "f = (\"opensans\",20,\"bold\")\n",
    "\n",
    "button = tk.Button(app,font = f,text = \"Load\",command =getcoviddata)\n",
    "button.pack(pady = 20)\n",
    "\n",
    "label = tk.Label(app,font=f)\n",
    "label.pack(pady=20)\n",
    "\n",
    "label2=tk.Label(app,font=10)\n",
    "label2.pack()\n",
    "app.mainloop()"
   ]
  },
  {
   "cell_type": "code",
   "execution_count": null,
   "id": "6e420553",
   "metadata": {},
   "outputs": [],
   "source": []
  },
  {
   "cell_type": "code",
   "execution_count": null,
   "id": "41693904",
   "metadata": {},
   "outputs": [],
   "source": []
  }
 ],
 "metadata": {
  "kernelspec": {
   "display_name": "Python 3",
   "language": "python",
   "name": "python3"
  },
  "language_info": {
   "codemirror_mode": {
    "name": "ipython",
    "version": 3
   },
   "file_extension": ".py",
   "mimetype": "text/x-python",
   "name": "python",
   "nbconvert_exporter": "python",
   "pygments_lexer": "ipython3",
   "version": "3.9.5"
  }
 },
 "nbformat": 4,
 "nbformat_minor": 5
}
